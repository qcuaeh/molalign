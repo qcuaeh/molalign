{
 "cells": [
  {
   "cell_type": "code",
   "execution_count": 1,
   "id": "d7b70ad2-4048-454f-bda1-3a4254048fc1",
   "metadata": {},
   "outputs": [],
   "source": [
    "import sys\n",
    "import numpy as np\n",
    "from ase import io\n",
    "\n",
    "sys.path.insert(0, '../lib')\n",
    "from ralign import options, remap, align\n",
    "\n",
    "#print(remap.__doc__)\n",
    "#print(align.__doc__)"
   ]
  },
  {
   "cell_type": "code",
   "execution_count": 2,
   "id": "f4922952-e198-4d21-a5a9-16c2dbf6977f",
   "metadata": {},
   "outputs": [],
   "source": [
    "def optstr(string):\n",
    "    return string + ' '*(options.optlen - len(string))\n",
    "\n",
    "atoms0 = io.read('r005/Co100.xyz', index=0)\n",
    "atoms1 = io.read('r005/Co100.xyz', index=1)\n",
    "\n",
    "znums0 = atoms0.get_atomic_numbers()\n",
    "znums1 = atoms1.get_atomic_numbers()\n",
    "types0 = np.ones(len(atoms0), dtype=int)\n",
    "types1 = np.ones(len(atoms1), dtype=int)\n",
    "weights0 = np.ones(len(atoms0), dtype=float)\n",
    "weights1 = np.ones(len(atoms1), dtype=float)\n",
    "coords0 = np.transpose(atoms0.get_positions())\n",
    "coords1 = np.transpose(atoms1.get_positions())\n",
    "\n",
    "# Normalize weights\n",
    "weights0 = weights0/sum(weights0)\n",
    "weights1 = weights1/sum(weights1)\n",
    "\n",
    "options.biased = True\n",
    "options.converged = True\n",
    "options.iterative = True\n",
    "options.testing = True\n",
    "options.mincount = 10\n",
    "options.lenscale = 1000.0\n",
    "options.tolerance = 0.17"
   ]
  },
  {
   "cell_type": "code",
   "execution_count": 3,
   "id": "69542705-ddc9-4d50-8fda-9c7bf1887156",
   "metadata": {},
   "outputs": [
    {
     "name": "stdout",
     "output_type": "stream",
     "text": [
      "\u001b[K Map   Trial   Count   Cycles   Meanrot   Totalrot      RMSD\n",
      "\u001b[K------------------------------------------------------------\n",
      "\u001b[K   1       1      10      1.5      68.9      98.0     0.0482\n",
      "\u001b[K   2       3       4      1.5      57.2      80.6     2.1060\n",
      "\u001b[K------------------------------------------------------------\n",
      "\u001b[KFound 2 mapping(s) in 14 random trial(s)\n"
     ]
    }
   ],
   "source": [
    "n, maplist, mapcount = remap(znums0, znums1, types0, types1, weights0, weights1, coords0, coords1, 10)"
   ]
  },
  {
   "cell_type": "code",
   "execution_count": 4,
   "id": "010ca28f-3f9c-46dc-85ca-374dcb8f1a99",
   "metadata": {},
   "outputs": [],
   "source": [
    "for i, m in enumerate([i - 1 for i in maplist.transpose()[:n]]):\n",
    "    travec, rotmat = align(znums0, znums1[m], types0, types1[m], weights0, weights1[m], coords0, coords1[:, m])\n",
    "    atoms1.set_positions(np.matmul(rotmat, coords1).transpose() + travec)\n",
    "    io.write('aligned_{}.xyz'.format(i + 1), atoms0,)\n",
    "    io.write('aligned_{}.xyz'.format(i + 1), atoms1, append = True)"
   ]
  }
 ],
 "metadata": {
  "kernelspec": {
   "display_name": "Python 3 (ipykernel)",
   "language": "python",
   "name": "python3"
  },
  "language_info": {
   "codemirror_mode": {
    "name": "ipython",
    "version": 3
   },
   "file_extension": ".py",
   "mimetype": "text/x-python",
   "name": "python",
   "nbconvert_exporter": "python",
   "pygments_lexer": "ipython3",
   "version": "3.9.13"
  }
 },
 "nbformat": 4,
 "nbformat_minor": 5
}
