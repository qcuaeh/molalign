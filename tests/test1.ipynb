{
 "cells": [
  {
   "cell_type": "code",
   "execution_count": 1,
   "id": "d7b70ad2-4048-454f-bda1-3a4254048fc1",
   "metadata": {},
   "outputs": [],
   "source": [
    "import numpy as np\n",
    "from ase import io\n",
    "from ralign import options, superpose"
   ]
  },
  {
   "cell_type": "code",
   "execution_count": 2,
   "id": "36e134ae-8345-47cc-b7e1-6cc725ba2e89",
   "metadata": {},
   "outputs": [
    {
     "name": "stdout",
     "output_type": "stream",
     "text": [
      "center0,center1,nrecord,atomaplist,rotmatlist = superpose(maxrecord,labels0,labels1,atoms0,atoms1,[natom])\n",
      "\n",
      "Wrapper for ``superpose``.\n",
      "\n",
      "Parameters\n",
      "----------\n",
      "maxrecord : input int\n",
      "labels0 : input rank-2 array('S') with bounds (natom,32)\n",
      "labels1 : input rank-2 array('S') with bounds (natom,32)\n",
      "atoms0 : input rank-2 array('d') with bounds (3,natom)\n",
      "atoms1 : input rank-2 array('d') with bounds (3,natom)\n",
      "\n",
      "Other Parameters\n",
      "----------------\n",
      "natom : input int, optional\n",
      "    Default: shape(labels0, 0)\n",
      "\n",
      "Returns\n",
      "-------\n",
      "center0 : rank-1 array('d') with bounds (3)\n",
      "center1 : rank-1 array('d') with bounds (3)\n",
      "nrecord : int\n",
      "atomaplist : rank-2 array('i') with bounds (natom,maxrecord)\n",
      "rotmatlist : rank-3 array('d') with bounds (3,3,maxrecord)\n",
      "\n"
     ]
    }
   ],
   "source": [
    "print(superpose.__doc__)"
   ]
  },
  {
   "cell_type": "code",
   "execution_count": 5,
   "id": "f4922952-e198-4d21-a5a9-16c2dbf6977f",
   "metadata": {},
   "outputs": [],
   "source": [
    "atoms0 = io.read('r005/100cobalt_j5.xyz', index=0)\n",
    "atoms1 = io.read('r005/100cobalt_j5.xyz', index=1)\n",
    "\n",
    "maxrecord = 10\n",
    "natom = len(atoms0)\n",
    "\n",
    "labels0 = np.empty((natom, 32), dtype='c')\n",
    "for i, symbol in enumerate(atoms0.get_chemical_symbols()):\n",
    "    labels0[i] = symbol + (32 - len(symbol))*'\\0'\n",
    "labels1 = np.empty((natom, 32), dtype='c')\n",
    "\n",
    "for i, symbol in enumerate(atoms1.get_chemical_symbols()):\n",
    "    labels1[i] = symbol + (32 - len(symbol))*'\\0'\n",
    "\n",
    "coords0 = np.transpose(atoms0.get_positions())\n",
    "coords1 = np.transpose(atoms1.get_positions())"
   ]
  },
  {
   "cell_type": "code",
   "execution_count": null,
   "id": "9428ed23-bd8f-42a5-bdf4-fccdd72339c2",
   "metadata": {},
   "outputs": [],
   "source": [
    "options.remap = True\n",
    "options.biased = True\n",
    "options.testing = True\n",
    "options.matching = True\n",
    "options.iterative = True\n",
    "options.maxmatches = 10\n",
    "options.tolerance = 0.017\n",
    "\n",
    "superpose(maxrecord, labels0, labels1, coords0, coords1)"
   ]
  },
  {
   "cell_type": "code",
   "execution_count": null,
   "id": "748ecefd-8a2b-42ee-b1de-dfe56952b085",
   "metadata": {},
   "outputs": [],
   "source": []
  }
 ],
 "metadata": {
  "kernelspec": {
   "display_name": "Python 3 (ipykernel)",
   "language": "python",
   "name": "python3"
  },
  "language_info": {
   "codemirror_mode": {
    "name": "ipython",
    "version": 3
   },
   "file_extension": ".py",
   "mimetype": "text/x-python",
   "name": "python",
   "nbconvert_exporter": "python",
   "pygments_lexer": "ipython3",
   "version": "3.9.13"
  }
 },
 "nbformat": 4,
 "nbformat_minor": 5
}
