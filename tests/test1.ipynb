{
 "cells": [
  {
   "cell_type": "code",
   "execution_count": null,
   "id": "d7b70ad2-4048-454f-bda1-3a4254048fc1",
   "metadata": {},
   "outputs": [],
   "source": [
    "from ase import io\n",
    "from wrapper import Aligner"
   ]
  },
  {
   "cell_type": "code",
   "execution_count": null,
   "id": "69542705-ddc9-4d50-8fda-9c7bf1887156",
   "metadata": {},
   "outputs": [],
   "source": [
    "atoms0 = io.read('r005/Co100.xyz', index=0)\n",
    "atoms1 = io.read('r005/Co100.xyz', index=1)\n",
    "aligner = Aligner(atoms0, records=10, count=10, bias=0.17, iteration=True, weighted=True, testing=True)"
   ]
  },
  {
   "cell_type": "code",
   "execution_count": null,
   "id": "1fd47620-e37b-4180-ae66-42e4b199fa1c",
   "metadata": {},
   "outputs": [],
   "source": [
    "maplist, mapcount, mindist = aligner.remapping(atoms1)"
   ]
  },
  {
   "cell_type": "code",
   "execution_count": null,
   "id": "010ca28f-3f9c-46dc-85ca-374dcb8f1a99",
   "metadata": {},
   "outputs": [],
   "source": [
    "for i, mapping in enumerate(maplist, start=1):\n",
    "    io.write('aligned_{}.xyz'.format(i), atoms0,)\n",
    "    io.write('aligned_{}.xyz'.format(i), aligner.aligned(atoms1, mapping), append=True)"
   ]
  }
 ],
 "metadata": {
  "kernelspec": {
   "display_name": "Python 3 (ipykernel)",
   "language": "python",
   "name": "python3"
  },
  "language_info": {
   "codemirror_mode": {
    "name": "ipython",
    "version": 3
   },
   "file_extension": ".py",
   "mimetype": "text/x-python",
   "name": "python",
   "nbconvert_exporter": "python",
   "pygments_lexer": "ipython3",
   "version": "3.9.13"
  }
 },
 "nbformat": 4,
 "nbformat_minor": 5
}
