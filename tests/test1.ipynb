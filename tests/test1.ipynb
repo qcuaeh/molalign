{
 "cells": [
  {
   "cell_type": "code",
   "execution_count": 1,
   "id": "d7b70ad2-4048-454f-bda1-3a4254048fc1",
   "metadata": {},
   "outputs": [
    {
     "name": "stdout",
     "output_type": "stream",
     "text": [
      "nrecord,maplist,mapcount = remap(znums0,znums1,types0,types1,weights0,weights1,coords0,coords1,maxrecord,[natom0,natom1])\n",
      "\n",
      "Wrapper for ``remap``.\n",
      "\n",
      "Parameters\n",
      "----------\n",
      "znums0 : input rank-1 array('i') with bounds (natom0)\n",
      "znums1 : input rank-1 array('i') with bounds (natom1)\n",
      "types0 : input rank-1 array('i') with bounds (natom0)\n",
      "types1 : input rank-1 array('i') with bounds (natom1)\n",
      "weights0 : input rank-1 array('d') with bounds (natom0)\n",
      "weights1 : input rank-1 array('d') with bounds (natom1)\n",
      "coords0 : input rank-2 array('d') with bounds (3,natom0)\n",
      "coords1 : input rank-2 array('d') with bounds (3,natom1)\n",
      "maxrecord : input int\n",
      "\n",
      "Other Parameters\n",
      "----------------\n",
      "natom0 : input int, optional\n",
      "    Default: shape(znums0, 0)\n",
      "natom1 : input int, optional\n",
      "    Default: shape(znums1, 0)\n",
      "\n",
      "Returns\n",
      "-------\n",
      "nrecord : int\n",
      "maplist : rank-2 array('i') with bounds (natom0,maxrecord)\n",
      "mapcount : rank-1 array('i') with bounds (maxrecord)\n",
      "\n",
      "travec,rotmat = align(znums0,znums1,types0,types1,weights0,weights1,coords0,coords1,[natom0,natom1])\n",
      "\n",
      "Wrapper for ``align``.\n",
      "\n",
      "Parameters\n",
      "----------\n",
      "znums0 : input rank-1 array('i') with bounds (natom0)\n",
      "znums1 : input rank-1 array('i') with bounds (natom1)\n",
      "types0 : input rank-1 array('i') with bounds (natom0)\n",
      "types1 : input rank-1 array('i') with bounds (natom1)\n",
      "weights0 : input rank-1 array('d') with bounds (natom0)\n",
      "weights1 : input rank-1 array('d') with bounds (natom1)\n",
      "coords0 : input rank-2 array('d') with bounds (3,natom0)\n",
      "coords1 : input rank-2 array('d') with bounds (3,natom1)\n",
      "\n",
      "Other Parameters\n",
      "----------------\n",
      "natom0 : input int, optional\n",
      "    Default: shape(znums0, 0)\n",
      "natom1 : input int, optional\n",
      "    Default: shape(znums1, 0)\n",
      "\n",
      "Returns\n",
      "-------\n",
      "travec : rank-1 array('d') with bounds (3)\n",
      "rotmat : rank-2 array('d') with bounds (3,3)\n",
      "\n"
     ]
    }
   ],
   "source": [
    "import sys\n",
    "import numpy as np\n",
    "from ase import io\n",
    "\n",
    "sys.path.insert(0, '../lib')\n",
    "from ralign import options, remap, align\n",
    "\n",
    "print(remap.__doc__)\n",
    "print(align.__doc__)"
   ]
  },
  {
   "cell_type": "code",
   "execution_count": 7,
   "id": "f4922952-e198-4d21-a5a9-16c2dbf6977f",
   "metadata": {},
   "outputs": [],
   "source": [
    "def optstr(string):\n",
    "    return string + ' '*(options.optlen - len(string))\n",
    "\n",
    "atoms0 = io.read('r005/100cobalt_j5.xyz', index=0)\n",
    "atoms1 = io.read('r005/100cobalt_j5.xyz', index=1)\n",
    "\n",
    "znums0 = atoms0.get_atomic_numbers()\n",
    "znums1 = atoms1.get_atomic_numbers()\n",
    "types0 = np.ones(len(atoms0), dtype=int)\n",
    "types1 = np.ones(len(atoms1), dtype=int)\n",
    "weights0 = np.ones(len(atoms0), dtype=float)\n",
    "weights1 = np.ones(len(atoms1), dtype=float)\n",
    "coords0 = np.transpose(atoms0.get_positions())\n",
    "coords1 = np.transpose(atoms1.get_positions())\n",
    "\n",
    "# Normalize weights\n",
    "weights0 = weights0/sum(weights0)\n",
    "weights1 = weights1/sum(weights1)\n",
    "\n",
    "options.biased = True\n",
    "options.converged = True\n",
    "options.iterative = True\n",
    "options.testing = True\n",
    "options.mincount = 10\n",
    "options.lenscale = 1000.0\n",
    "options.tolerance = 0.17"
   ]
  },
  {
   "cell_type": "code",
   "execution_count": 13,
   "id": "69542705-ddc9-4d50-8fda-9c7bf1887156",
   "metadata": {},
   "outputs": [
    {
     "name": "stdout",
     "output_type": "stream",
     "text": [
      "\u001b[K Map   Trial   Count   Cycles   Meanrot   Totalrot      RMSD\n",
      "\u001b[K------------------------------------------------------------\n",
      "\u001b[K   1       1      10      1.9      57.2     104.3     0.0482\n",
      "\u001b[K------------------------------------------------------------\n",
      "\u001b[KFound more than 1 mapping(s) in 12 random trial(s)\n"
     ]
    }
   ],
   "source": [
    "n, maplist, mapcount = remap(znums0, znums1, types0, types1, weights0, weights1, coords0, coords1, 1)"
   ]
  },
  {
   "cell_type": "code",
   "execution_count": 8,
   "id": "0696de9b-b5d3-46f0-9d39-a4e248d2e143",
   "metadata": {},
   "outputs": [
    {
     "data": {
      "text/plain": [
       "array([[ 35,  96],\n",
       "       [ 68,  68],\n",
       "       [ 27,  45],\n",
       "       [ 31,  72],\n",
       "       [ 24,  62],\n",
       "       [ 70,  16],\n",
       "       [ 25,  25],\n",
       "       [ 75,  75],\n",
       "       [  4,  74],\n",
       "       [ 41,  26],\n",
       "       [ 94, 100],\n",
       "       [ 71,  71],\n",
       "       [ 84,  61],\n",
       "       [ 47,  47],\n",
       "       [ 83,  89],\n",
       "       [ 37,  30],\n",
       "       [ 32,  32],\n",
       "       [ 76,  88],\n",
       "       [ 67,  49],\n",
       "       [ 30,  37],\n",
       "       [ 53,  77],\n",
       "       [ 15,  69],\n",
       "       [ 66,  66],\n",
       "       [ 63,  63],\n",
       "       [ 14,  54],\n",
       "       [ 69,  15],\n",
       "       [ 91,  59],\n",
       "       [ 45,  27],\n",
       "       [ 62,  24],\n",
       "       [ 12,   1],\n",
       "       [ 96,  35],\n",
       "       [ 44,  48],\n",
       "       [  5,   5],\n",
       "       [  7,   8],\n",
       "       [ 26,  41],\n",
       "       [ 11,  11],\n",
       "       [ 49,  67],\n",
       "       [ 80,  93],\n",
       "       [ 33,  98],\n",
       "       [ 78,  78],\n",
       "       [ 10,  82],\n",
       "       [ 55,  21],\n",
       "       [ 72,  31],\n",
       "       [ 93,  80],\n",
       "       [ 92,  20],\n",
       "       [ 97,  22],\n",
       "       [ 46,  46],\n",
       "       [ 19,  18],\n",
       "       [ 81,  81],\n",
       "       [ 98,  33],\n",
       "       [ 59,  91],\n",
       "       [ 87,   6],\n",
       "       [ 79,  79],\n",
       "       [ 22,  97],\n",
       "       [ 48,  44],\n",
       "       [ 50,  23],\n",
       "       [ 18,  19],\n",
       "       [ 56,   2],\n",
       "       [  1,  12],\n",
       "       [ 34,   9],\n",
       "       [ 36,  36],\n",
       "       [ 38,  38],\n",
       "       [ 65,  64],\n",
       "       [ 20,  92],\n",
       "       [ 52,  42],\n",
       "       [ 16,  70],\n",
       "       [ 89,  83],\n",
       "       [ 21,  55],\n",
       "       [ 85,  90],\n",
       "       [ 23,  50],\n",
       "       [ 61,  84],\n",
       "       [ 28,  60],\n",
       "       [ 86,  13],\n",
       "       [ 90,  85],\n",
       "       [ 74,   4],\n",
       "       [  3,   3],\n",
       "       [ 77,  53],\n",
       "       [ 88,  76],\n",
       "       [ 54,  14],\n",
       "       [ 29,  99],\n",
       "       [ 82,  10],\n",
       "       [ 39,  95],\n",
       "       [ 40,  40],\n",
       "       [ 13,  86],\n",
       "       [  6,  87],\n",
       "       [ 17,  73],\n",
       "       [ 95,  39],\n",
       "       [ 64,  65],\n",
       "       [ 58,  51],\n",
       "       [ 60,  28],\n",
       "       [ 43,  43],\n",
       "       [ 73,  17],\n",
       "       [  2,  56],\n",
       "       [  9,  34],\n",
       "       [  8,   7],\n",
       "       [ 42,  52],\n",
       "       [100,  94],\n",
       "       [ 51,  58],\n",
       "       [ 99,  29],\n",
       "       [ 57,  57]], dtype=int32)"
      ]
     },
     "execution_count": 8,
     "metadata": {},
     "output_type": "execute_result"
    }
   ],
   "source": [
    "maplist[:, 0:n]"
   ]
  },
  {
   "cell_type": "code",
   "execution_count": 7,
   "id": "010ca28f-3f9c-46dc-85ca-374dcb8f1a99",
   "metadata": {},
   "outputs": [
    {
     "data": {
      "text/plain": [
       "array([10,  3], dtype=int32)"
      ]
     },
     "execution_count": 7,
     "metadata": {},
     "output_type": "execute_result"
    }
   ],
   "source": [
    "mapcount[0:n]"
   ]
  },
  {
   "cell_type": "code",
   "execution_count": null,
   "id": "a2f34e18-bbef-45be-b8c7-44cc0ac29b29",
   "metadata": {},
   "outputs": [],
   "source": []
  }
 ],
 "metadata": {
  "kernelspec": {
   "display_name": "Python 3 (ipykernel)",
   "language": "python",
   "name": "python3"
  },
  "language_info": {
   "codemirror_mode": {
    "name": "ipython",
    "version": 3
   },
   "file_extension": ".py",
   "mimetype": "text/x-python",
   "name": "python",
   "nbconvert_exporter": "python",
   "pygments_lexer": "ipython3",
   "version": "3.9.13"
  }
 },
 "nbformat": 4,
 "nbformat_minor": 5
}
