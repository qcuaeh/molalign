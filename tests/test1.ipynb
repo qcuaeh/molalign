{
 "cells": [
  {
   "cell_type": "code",
   "execution_count": null,
   "id": "d7b70ad2-4048-454f-bda1-3a4254048fc1",
   "metadata": {},
   "outputs": [],
   "source": [
    "from ase import io\n",
    "from wrapper import Aligner"
   ]
  },
  {
   "cell_type": "code",
   "execution_count": null,
   "id": "69542705-ddc9-4d50-8fda-9c7bf1887156",
   "metadata": {},
   "outputs": [],
   "source": [
    "atoms0 = io.read('r005/Co100.xyz', index=0)\n",
    "atoms1 = io.read('r005/Co100.xyz', index=1)"
   ]
  },
  {
   "cell_type": "code",
   "execution_count": null,
   "id": "d308affa-c2ac-4f2f-ac8f-13ae865e5e5b",
   "metadata": {},
   "outputs": [],
   "source": [
    "aligner = Aligner(atoms0, records=10, count=10, trials=1000, biased=True, bias_tol=0.17, iterated=True, testing=True)\n",
    "maplist, mapcount, mindist = aligner.remapping(atoms1)\n",
    "for i, mapping in enumerate(maplist, start=1):\n",
    "    io.write('aligned_{}.xyz'.format(i), atoms0)\n",
    "    io.write('aligned_{}.xyz'.format(i), aligner.aligned(atoms1, mapping), append=True)"
   ]
  }
 ],
 "metadata": {
  "kernelspec": {
   "display_name": "Python 3 (ipykernel)",
   "language": "python",
   "name": "python3"
  },
  "language_info": {
   "codemirror_mode": {
    "name": "ipython",
    "version": 3
   },
   "file_extension": ".py",
   "mimetype": "text/x-python",
   "name": "python",
   "nbconvert_exporter": "python",
   "pygments_lexer": "ipython3",
   "version": "3.9.13"
  }
 },
 "nbformat": 4,
 "nbformat_minor": 5
}
