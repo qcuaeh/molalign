{
 "cells": [
  {
   "cell_type": "code",
   "execution_count": null,
   "id": "d7b70ad2-4048-454f-bda1-3a4254048fc1",
   "metadata": {},
   "outputs": [],
   "source": [
    "# Import ASE to read and write files\n",
    "from ase.io import read, write\n",
    "from molalignlib import assign_atoms"
   ]
  },
  {
   "cell_type": "code",
   "execution_count": null,
   "id": "69542705-ddc9-4d50-8fda-9c7bf1887156",
   "metadata": {},
   "outputs": [],
   "source": [
    "# Read clusters coordinates\n",
    "mol0 = read('../Co138_0.xyz')\n",
    "mol1 = read('../Co138_1.xyz')"
   ]
  },
  {
   "cell_type": "code",
   "execution_count": null,
   "id": "27729c36-1caf-4a46-8290-96cb00b7140b",
   "metadata": {},
   "outputs": [],
   "source": [
    "# Find the optimal assignment between mol0 and mol1\n",
    "assignment = assign_atoms(mol0, mol1, fast=True, tol=0.35, stats=True)"
   ]
  },
  {
   "cell_type": "code",
   "execution_count": null,
   "id": "e1697483-8abb-42fa-add4-2d70e8dba2f5",
   "metadata": {},
   "outputs": [],
   "source": [
    "# Align mol1 to mol0 for the assignment and write the aligned coordinates to a file\n",
    "mol1 = mol1[assignment.order]\n",
    "rmsd = mol1.align_to(mol0)\n",
    "print('{:.4f}'.format(rmsd))\n",
    "write('aligned.xyz', mol1)"
   ]
  }
 ],
 "metadata": {
  "kernelspec": {
   "display_name": "Python 3 (ipykernel)",
   "language": "python",
   "name": "python3"
  },
  "language_info": {
   "codemirror_mode": {
    "name": "ipython",
    "version": 3
   },
   "file_extension": ".py",
   "mimetype": "text/x-python",
   "name": "python",
   "nbconvert_exporter": "python",
   "pygments_lexer": "ipython3",
   "version": "3.11.6"
  }
 },
 "nbformat": 4,
 "nbformat_minor": 5
}
