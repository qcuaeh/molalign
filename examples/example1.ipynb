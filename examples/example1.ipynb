{
 "cells": [
  {
   "cell_type": "code",
   "execution_count": null,
   "id": "d7b70ad2-4048-454f-bda1-3a4254048fc1",
   "metadata": {},
   "outputs": [],
   "source": [
    "# Import modules\n",
    "from ase import io\n",
    "from molalignlib import Alignment"
   ]
  },
  {
   "cell_type": "code",
   "execution_count": null,
   "id": "69542705-ddc9-4d50-8fda-9c7bf1887156",
   "metadata": {},
   "outputs": [],
   "source": [
    "# Read clusters coordinates\n",
    "atoms0 = io.read('tests/r005/Co100.xyz', index=0)\n",
    "atoms1 = io.read('tests/r005/Co100.xyz', index=1)"
   ]
  },
  {
   "cell_type": "code",
   "execution_count": null,
   "id": "27729c36-1caf-4a46-8290-96cb00b7140b",
   "metadata": {},
   "outputs": [],
   "source": [
    "# Create an alignment object with atoms0 as reference\n",
    "alignment0 = Alignment(atoms0, biasing=True, iteration=True)"
   ]
  },
  {
   "cell_type": "code",
   "execution_count": null,
   "id": "d308affa-c2ac-4f2f-ac8f-13ae865e5e5b",
   "metadata": {},
   "outputs": [],
   "source": [
    "# Sort atoms1 to minimize the RMSD respect to atoms0\n",
    "maplist, mapcount, mindist = alignment0.sorted(atoms1)"
   ]
  },
  {
   "cell_type": "code",
   "execution_count": null,
   "id": "e1697483-8abb-42fa-add4-2d70e8dba2f5",
   "metadata": {},
   "outputs": [],
   "source": [
    "# Align atoms1 to atoms0 for each calculated mapping and write coordinates to file\n",
    "for i, mapping in enumerate(maplist, start=1):\n",
    "    io.write('aligned_{}.xyz'.format(i), atoms0)\n",
    "    io.write('aligned_{}.xyz'.format(i), alignment0.aligned(atoms1[mapping]), append=True)"
   ]
  }
 ],
 "metadata": {
  "kernelspec": {
   "display_name": "Python 3 (ipykernel)",
   "language": "python",
   "name": "python3"
  },
  "language_info": {
   "codemirror_mode": {
    "name": "ipython",
    "version": 3
   },
   "file_extension": ".py",
   "mimetype": "text/x-python",
   "name": "python",
   "nbconvert_exporter": "python",
   "pygments_lexer": "ipython3",
   "version": "3.10.6"
  }
 },
 "nbformat": 4,
 "nbformat_minor": 5
}
