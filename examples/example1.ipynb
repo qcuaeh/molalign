{
 "cells": [
  {
   "cell_type": "code",
   "execution_count": null,
   "id": "d7b70ad2-4048-454f-bda1-3a4254048fc1",
   "metadata": {},
   "outputs": [],
   "source": [
    "# Ase must be imported before molalignlib\n",
    "# in order to patch the Atoms class with the align_to method\n",
    "from ase.io import read, write\n",
    "from molalignlib import assign_atoms"
   ]
  },
  {
   "cell_type": "code",
   "execution_count": null,
   "id": "69542705-ddc9-4d50-8fda-9c7bf1887156",
   "metadata": {},
   "outputs": [],
   "source": [
    "# Read clusters coordinates\n",
    "atoms0 = read('Co138_0.xyz', index=0)\n",
    "atoms1 = read('Co138_1.xyz', index=0)"
   ]
  },
  {
   "cell_type": "code",
   "execution_count": null,
   "id": "27729c36-1caf-4a46-8290-96cb00b7140b",
   "metadata": {},
   "outputs": [],
   "source": [
    "# Find the 5 best assignments between atoms0 and atoms1 using biasing and iteration\n",
    "assignments = assign_atoms(atoms0, atoms1, biasing=True, iteration=True, stats=True, records=5)"
   ]
  },
  {
   "cell_type": "code",
   "execution_count": null,
   "id": "e1697483-8abb-42fa-add4-2d70e8dba2f5",
   "metadata": {},
   "outputs": [],
   "source": [
    "# Align atoms1 to atoms0 for each assignment and write the aligned coordinates to a file\n",
    "write('aligned.xyz', atoms0, comment='Reference')\n",
    "for i in assignments:\n",
    "    atoms2 = atoms1[i.order]\n",
    "    rmsd = atoms2.align_to(atoms0)\n",
    "    write('aligned.xyz', atoms2, append=True, comment='RMSD {:.4f}'.format(rmsd))"
   ]
  }
 ],
 "metadata": {
  "kernelspec": {
   "display_name": "Python 3 (ipykernel)",
   "language": "python",
   "name": "python3"
  },
  "language_info": {
   "codemirror_mode": {
    "name": "ipython",
    "version": 3
   },
   "file_extension": ".py",
   "mimetype": "text/x-python",
   "name": "python",
   "nbconvert_exporter": "python",
   "pygments_lexer": "ipython3",
   "version": "3.10.6"
  }
 },
 "nbformat": 4,
 "nbformat_minor": 5
}
